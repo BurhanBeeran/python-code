{
 "cells": [
  {
   "cell_type": "code",
   "execution_count": 2,
   "id": "002b927c-8ec8-43d5-8c36-beb696f1795b",
   "metadata": {},
   "outputs": [
    {
     "name": "stdout",
     "output_type": "stream",
     "text": [
      "burhan beeran ua\n"
     ]
    }
   ],
   "source": [
    "print(\"burhan beeran ua\")"
   ]
  },
  {
   "cell_type": "code",
   "execution_count": 3,
   "id": "0e93e7ed-6263-43cf-9eb4-b8c499c96613",
   "metadata": {},
   "outputs": [],
   "source": [
    "x=10"
   ]
  },
  {
   "cell_type": "code",
   "execution_count": 4,
   "id": "ec7de9a3-3be0-4b2c-b78d-9eda94409e3a",
   "metadata": {},
   "outputs": [
    {
     "name": "stdout",
     "output_type": "stream",
     "text": [
      "10\n"
     ]
    }
   ],
   "source": [
    "print(x)"
   ]
  },
  {
   "cell_type": "code",
   "execution_count": 6,
   "id": "0f72af92-26f5-4fd7-aafe-bbccb59cf5c9",
   "metadata": {},
   "outputs": [],
   "source": [
    "x=\"india\"\n",
    "y=10"
   ]
  },
  {
   "cell_type": "code",
   "execution_count": 7,
   "id": "294d2691-ab7f-426b-a58c-71e5011da77d",
   "metadata": {},
   "outputs": [
    {
     "name": "stdout",
     "output_type": "stream",
     "text": [
      "india\n",
      "10\n"
     ]
    }
   ],
   "source": [
    "print(x)\n",
    "print(y)"
   ]
  },
  {
   "cell_type": "code",
   "execution_count": 8,
   "id": "244e2b4d-c0d1-47dc-8193-7da8e5eed6d7",
   "metadata": {},
   "outputs": [
    {
     "name": "stdout",
     "output_type": "stream",
     "text": [
      "burhan beeranua\n",
      "10\n"
     ]
    }
   ],
   "source": [
    "print(\"burhan beeranua\") \n",
    "x=10\n",
    "print(x)\n",
    "x1=\"india\"\n",
    "y=10"
   ]
  },
  {
   "cell_type": "code",
   "execution_count": 13,
   "id": "9f8ddc90-613d-48e0-a009-69f2a8733c67",
   "metadata": {},
   "outputs": [
    {
     "name": "stdout",
     "output_type": "stream",
     "text": [
      "2002 september 8.9\n"
     ]
    }
   ],
   "source": [
    "x=2002\n",
    "y=\"september\"\n",
    "z=8.9\n",
    "print(x,y,z)"
   ]
  },
  {
   "cell_type": "code",
   "execution_count": 11,
   "id": "8a615e51-dc1f-45d0-8a5b-e68033e4537d",
   "metadata": {},
   "outputs": [
    {
     "data": {
      "text/plain": [
       "int"
      ]
     },
     "execution_count": 11,
     "metadata": {},
     "output_type": "execute_result"
    }
   ],
   "source": [
    "type(x)"
   ]
  },
  {
   "cell_type": "code",
   "execution_count": 14,
   "id": "f846eccf-f56e-49dc-af71-5d3a0e862649",
   "metadata": {},
   "outputs": [
    {
     "data": {
      "text/plain": [
       "str"
      ]
     },
     "execution_count": 14,
     "metadata": {},
     "output_type": "execute_result"
    }
   ],
   "source": [
    "type(y)"
   ]
  },
  {
   "cell_type": "code",
   "execution_count": 15,
   "id": "57d876b7-a28e-40f9-920a-75ca9e4b2859",
   "metadata": {},
   "outputs": [
    {
     "data": {
      "text/plain": [
       "float"
      ]
     },
     "execution_count": 15,
     "metadata": {},
     "output_type": "execute_result"
    }
   ],
   "source": [
    "type(z)"
   ]
  },
  {
   "cell_type": "code",
   "execution_count": 21,
   "id": "c3e16b5f-25a3-457c-a5e7-c004084d86f6",
   "metadata": {},
   "outputs": [
    {
     "name": "stdout",
     "output_type": "stream",
     "text": [
      "20.5\n"
     ]
    }
   ],
   "source": [
    "x=10\n",
    "y=10.5\n",
    "z=x+y\n",
    "print(z)"
   ]
  },
  {
   "cell_type": "code",
   "execution_count": 22,
   "id": "77d8bb5e-4b6d-423e-89d2-60aa09fca385",
   "metadata": {},
   "outputs": [
    {
     "name": "stdout",
     "output_type": "stream",
     "text": [
      "20.0 <class 'float'>\n"
     ]
    }
   ],
   "source": [
    "x=10\n",
    "y=10.0\n",
    "z=x+y\n",
    "print(z, type(z))"
   ]
  },
  {
   "cell_type": "code",
   "execution_count": 28,
   "id": "b37a2588-35ee-4fc2-9828-742de809f9dc",
   "metadata": {},
   "outputs": [
    {
     "name": "stdout",
     "output_type": "stream",
     "text": [
      "india is my country\n"
     ]
    }
   ],
   "source": [
    "x=\"india\"\n",
    "y=\"is\"\n",
    "z=\"my country\"\n",
    "a=x+\" \"+y+\" \"+z\n",
    "print(a)"
   ]
  },
  {
   "cell_type": "code",
   "execution_count": null,
   "id": "f266f03d-d0ee-4685-99cf-cfd2848c07ea",
   "metadata": {},
   "outputs": [],
   "source": []
  }
 ],
 "metadata": {
  "kernelspec": {
   "display_name": "Python 3",
   "language": "python",
   "name": "python3"
  },
  "language_info": {
   "codemirror_mode": {
    "name": "ipython",
    "version": 3
   },
   "file_extension": ".py",
   "mimetype": "text/x-python",
   "name": "python",
   "nbconvert_exporter": "python",
   "pygments_lexer": "ipython3",
   "version": "3.8.8"
  }
 },
 "nbformat": 4,
 "nbformat_minor": 5
}
