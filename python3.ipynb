{
 "cells": [
  {
   "cell_type": "code",
   "execution_count": 6,
   "id": "185b7cef-3604-4ddc-a71c-a708b6464adf",
   "metadata": {},
   "outputs": [],
   "source": [
    "x=20"
   ]
  },
  {
   "cell_type": "code",
   "execution_count": 4,
   "id": "91e0a0c6-af00-416e-bc00-f00270cd56c9",
   "metadata": {},
   "outputs": [
    {
     "name": "stdin",
     "output_type": "stream",
     "text": [
      "enter a number= 20\n"
     ]
    },
    {
     "name": "stdout",
     "output_type": "stream",
     "text": [
      "x is greater than 15\n",
      "india is my country\n"
     ]
    }
   ],
   "source": [
    "x=int(input(\"enter a number=\"))\n",
    "if x > 15 :\n",
    "    print(\"x is greater than 15\")\n",
    "print(\"india is my country\")\n",
    "if x < 15:\n",
    "    print (\"x is less than 15\")"
   ]
  },
  {
   "cell_type": "code",
   "execution_count": 9,
   "id": "1cc69502-33c8-40fb-a80d-634db7946470",
   "metadata": {},
   "outputs": [],
   "source": [
    "\n"
   ]
  },
  {
   "cell_type": "code",
   "execution_count": null,
   "id": "75423847-6634-4365-afdf-53c4df9416ba",
   "metadata": {},
   "outputs": [],
   "source": [
    "    "
   ]
  }
 ],
 "metadata": {
  "kernelspec": {
   "display_name": "Python 3",
   "language": "python",
   "name": "python3"
  },
  "language_info": {
   "codemirror_mode": {
    "name": "ipython",
    "version": 3
   },
   "file_extension": ".py",
   "mimetype": "text/x-python",
   "name": "python",
   "nbconvert_exporter": "python",
   "pygments_lexer": "ipython3",
   "version": "3.8.8"
  }
 },
 "nbformat": 4,
 "nbformat_minor": 5
}
