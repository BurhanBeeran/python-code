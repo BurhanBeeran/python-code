{
 "cells": [
  {
   "cell_type": "code",
   "execution_count": 6,
   "id": "04b9c2be-bda0-4b89-b079-09306e906422",
   "metadata": {},
   "outputs": [
    {
     "name": "stdin",
     "output_type": "stream",
     "text": [
      "enter the first number 5\n"
     ]
    }
   ],
   "source": [
    "x=int(input(\"enter the first number\"))"
   ]
  },
  {
   "cell_type": "code",
   "execution_count": 8,
   "id": "7371aa15-a1b6-4d47-aedb-192b212e0608",
   "metadata": {},
   "outputs": [
    {
     "name": "stdout",
     "output_type": "stream",
     "text": [
      "x is positive\n"
     ]
    }
   ],
   "source": [
    " if(x>=0):\n",
    "    if(x==0):\n",
    "        print(\"x=0\")\n",
    "    else:\n",
    "        print(\"x is positive\")\n",
    "else:\n",
    "    print(\"x is negative\")"
   ]
  },
  {
   "cell_type": "code",
   "execution_count": 4,
   "id": "c5fc5fc1-3838-4ef2-a9fa-1e9b34cad9a7",
   "metadata": {},
   "outputs": [
    {
     "name": "stdin",
     "output_type": "stream",
     "text": [
      "enter a principle amount 50000\n",
      "enter the number of years 12\n"
     ]
    }
   ],
   "source": [
    "x=int(input(\"enter a principle amount\"))\n",
    "y=int(input(\"enter the number of years\"))\n",
    "if x > 50000 : \n",
    "        r = 0.10\n",
    "if y <= 6 :\n",
    "        r = 0.10 \n",
    "else :\n",
    "        r = 0.8\n",
    "a=int(x)+int(x)*int(y)*float(r)\n"
   ]
  },
  {
   "cell_type": "code",
   "execution_count": 5,
   "id": "f8a2ba8d-f7b5-4cae-aa88-73bb3a683063",
   "metadata": {},
   "outputs": [
    {
     "name": "stdout",
     "output_type": "stream",
     "text": [
      "530000.0\n"
     ]
    }
   ],
   "source": [
    "print(a)"
   ]
  },
  {
   "cell_type": "code",
   "execution_count": 7,
   "id": "859da05b-8a0d-4b6b-9226-42f6782ad727",
   "metadata": {},
   "outputs": [
    {
     "ename": "SyntaxError",
     "evalue": "invalid syntax (<ipython-input-7-673c51974990>, line 5)",
     "output_type": "error",
     "traceback": [
      "\u001b[1;36m  File \u001b[1;32m\"<ipython-input-7-673c51974990>\"\u001b[1;36m, line \u001b[1;32m5\u001b[0m\n\u001b[1;33m    if p>50000\u001b[0m\n\u001b[1;37m              ^\u001b[0m\n\u001b[1;31mSyntaxError\u001b[0m\u001b[1;31m:\u001b[0m invalid syntax\n"
     ]
    }
   ],
   "source": [
    "if n>6:\n",
    "    r=0.1\n",
    "else:\n",
    "    r=0.08\n",
    "if p>50000\n",
    "    r=0.10\n",
    "a=int(x)+int(x)*int(y)*float(r)    \n",
    "    "
   ]
  },
  {
   "cell_type": "code",
   "execution_count": 9,
   "id": "7fa30044-e400-491b-94df-aa4a6605e000",
   "metadata": {},
   "outputs": [
    {
     "data": {
      "text/plain": [
       "'w'"
      ]
     },
     "execution_count": 9,
     "metadata": {},
     "output_type": "execute_result"
    }
   ],
   "source": [
    "x=\"we are second years BBA student\"\n",
    "x[0]"
   ]
  },
  {
   "cell_type": "code",
   "execution_count": 11,
   "id": "c4fb8a65-04f7-4144-84b8-b092cdab323b",
   "metadata": {},
   "outputs": [
    {
     "data": {
      "text/plain": [
       "'e'"
      ]
     },
     "execution_count": 11,
     "metadata": {},
     "output_type": "execute_result"
    }
   ],
   "source": [
    "x[1]"
   ]
  },
  {
   "cell_type": "code",
   "execution_count": 12,
   "id": "a99f7f23-8215-4928-962c-1866b5bf521b",
   "metadata": {},
   "outputs": [
    {
     "data": {
      "text/plain": [
       "'WE ARE SECOND YEARS BBA STUDENT'"
      ]
     },
     "execution_count": 12,
     "metadata": {},
     "output_type": "execute_result"
    }
   ],
   "source": [
    "x. upper()"
   ]
  },
  {
   "cell_type": "code",
   "execution_count": 14,
   "id": "d906b990-80aa-44dc-a4fc-9049c36b3fe6",
   "metadata": {},
   "outputs": [
    {
     "data": {
      "text/plain": [
       "'we are second years bba student'"
      ]
     },
     "execution_count": 14,
     "metadata": {},
     "output_type": "execute_result"
    }
   ],
   "source": [
    "x.lower()"
   ]
  },
  {
   "cell_type": "code",
   "execution_count": 15,
   "id": "31743063-5f65-4930-a827-8406c0d4fa22",
   "metadata": {},
   "outputs": [
    {
     "data": {
      "text/plain": [
       "('we are second years ', 'BBA', ' student')"
      ]
     },
     "execution_count": 15,
     "metadata": {},
     "output_type": "execute_result"
    }
   ],
   "source": [
    "x.partition(\"BBA\")"
   ]
  },
  {
   "cell_type": "code",
   "execution_count": 16,
   "id": "d6739ea3-bf15-4bda-a86d-bd7e460207d1",
   "metadata": {},
   "outputs": [
    {
     "data": {
      "text/plain": [
       "['we are second years ', ' student']"
      ]
     },
     "execution_count": 16,
     "metadata": {},
     "output_type": "execute_result"
    }
   ],
   "source": [
    "x.split(\"BBA\")"
   ]
  },
  {
   "cell_type": "code",
   "execution_count": 25,
   "id": "98b4873c-ca73-477b-875a-9079edd4445b",
   "metadata": {},
   "outputs": [
    {
     "data": {
      "text/plain": [
       "False"
      ]
     },
     "execution_count": 25,
     "metadata": {},
     "output_type": "execute_result"
    }
   ],
   "source": [
    "x.startswith(\"b\")"
   ]
  },
  {
   "cell_type": "code",
   "execution_count": 26,
   "id": "0e9ca22c-1f5d-49ee-b8f0-f325e4b79b4b",
   "metadata": {},
   "outputs": [
    {
     "data": {
      "text/plain": [
       "2"
      ]
     },
     "execution_count": 26,
     "metadata": {},
     "output_type": "execute_result"
    }
   ],
   "source": [
    "x.count(\"B\")"
   ]
  },
  {
   "cell_type": "code",
   "execution_count": 27,
   "id": "6d2b2a79-29a2-47b9-8284-704c942e5c19",
   "metadata": {},
   "outputs": [],
   "source": [
    "x=\"this is Ernamkulam\""
   ]
  },
  {
   "cell_type": "code",
   "execution_count": 28,
   "id": "5a588132-f876-4643-9885-0eb42d3659cb",
   "metadata": {},
   "outputs": [
    {
     "data": {
      "text/plain": [
       "2"
      ]
     },
     "execution_count": 28,
     "metadata": {},
     "output_type": "execute_result"
    }
   ],
   "source": [
    "x.count(\"i\")"
   ]
  },
  {
   "cell_type": "code",
   "execution_count": 31,
   "id": "aa06f021-b323-4a76-8d78-371192025b0d",
   "metadata": {},
   "outputs": [
    {
     "data": {
      "text/plain": [
       "1"
      ]
     },
     "execution_count": 31,
     "metadata": {},
     "output_type": "execute_result"
    }
   ],
   "source": [
    "x.count(\"i\",3,6)"
   ]
  },
  {
   "cell_type": "code",
   "execution_count": 33,
   "id": "1e2ff089-b387-496a-9c58-a8762429e0d0",
   "metadata": {},
   "outputs": [
    {
     "data": {
      "text/plain": [
       "1"
      ]
     },
     "execution_count": 33,
     "metadata": {},
     "output_type": "execute_result"
    }
   ],
   "source": [
    "x.count(\"i\",3,6)"
   ]
  },
  {
   "cell_type": "code",
   "execution_count": 35,
   "id": "a7901017-dec2-4987-97e0-1a4e8475bbd1",
   "metadata": {},
   "outputs": [
    {
     "data": {
      "text/plain": [
       "8"
      ]
     },
     "execution_count": 35,
     "metadata": {},
     "output_type": "execute_result"
    }
   ],
   "source": [
    "x.index(\"E\")"
   ]
  },
  {
   "cell_type": "code",
   "execution_count": 37,
   "id": "080b4ebf-cbdb-472d-aa8e-fcea98143f74",
   "metadata": {},
   "outputs": [
    {
     "data": {
      "text/plain": [
       "11"
      ]
     },
     "execution_count": 37,
     "metadata": {},
     "output_type": "execute_result"
    }
   ],
   "source": [
    "x.index(\"a\")"
   ]
  },
  {
   "cell_type": "code",
   "execution_count": 38,
   "id": "f5496c19-329f-48e3-b9b1-6f45ff7e9b22",
   "metadata": {},
   "outputs": [
    {
     "data": {
      "text/plain": [
       "2"
      ]
     },
     "execution_count": 38,
     "metadata": {},
     "output_type": "execute_result"
    }
   ],
   "source": [
    "x.index(\"i\")"
   ]
  },
  {
   "cell_type": "code",
   "execution_count": 46,
   "id": "ae8a047e-84f0-42db-ae23-9f7e77ddc6cc",
   "metadata": {},
   "outputs": [
    {
     "data": {
      "text/plain": [
       "True"
      ]
     },
     "execution_count": 46,
     "metadata": {},
     "output_type": "execute_result"
    }
   ],
   "source": [
    "x=\"abcd123\"\n",
    "x.isalnum()"
   ]
  },
  {
   "cell_type": "code",
   "execution_count": null,
   "id": "a8e25762-d3ec-48ea-86b5-13d96c1c49c4",
   "metadata": {},
   "outputs": [],
   "source": []
  }
 ],
 "metadata": {
  "kernelspec": {
   "display_name": "Python 3",
   "language": "python",
   "name": "python3"
  },
  "language_info": {
   "codemirror_mode": {
    "name": "ipython",
    "version": 3
   },
   "file_extension": ".py",
   "mimetype": "text/x-python",
   "name": "python",
   "nbconvert_exporter": "python",
   "pygments_lexer": "ipython3",
   "version": "3.8.8"
  }
 },
 "nbformat": 4,
 "nbformat_minor": 5
}
