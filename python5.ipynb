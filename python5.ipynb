{
 "cells": [
  {
   "cell_type": "code",
   "execution_count": 8,
   "id": "78f3919d-a932-498f-9070-661c598d116b",
   "metadata": {},
   "outputs": [
    {
     "name": "stdin",
     "output_type": "stream",
     "text": [
      "enter username Burhan\n"
     ]
    },
    {
     "name": "stdout",
     "output_type": "stream",
     "text": [
      "username correct\n"
     ]
    }
   ],
   "source": [
    "x=input(\"enter username\")\n",
    "if x== \"Burhan\":\n",
    "    print(\"username correct\")\n",
    "else:\n",
    "    print(\"username incorrect\")\n"
   ]
  },
  {
   "cell_type": "code",
   "execution_count": 13,
   "id": "a1a5265a-8cb4-4509-afe3-9dd11d7c9cbb",
   "metadata": {},
   "outputs": [
    {
     "name": "stdin",
     "output_type": "stream",
     "text": [
      "enter your income in lakhs 8\n"
     ]
    },
    {
     "name": "stdout",
     "output_type": "stream",
     "text": [
      "special tax rate\n"
     ]
    }
   ],
   "source": [
    "income=int(input(\"enter your income in lakhs\"))\n",
    "if((income>=2) and (income<=5)):\n",
    "    print(\"base tax\")\n",
    "else:\n",
    "    print(\"special tax rate\")"
   ]
  },
  {
   "cell_type": "code",
   "execution_count": 14,
   "id": "3931c155-c194-4ba8-94b7-3a600c17366b",
   "metadata": {},
   "outputs": [
    {
     "name": "stdin",
     "output_type": "stream",
     "text": [
      "enter your income 3\n"
     ]
    },
    {
     "name": "stdout",
     "output_type": "stream",
     "text": [
      "taxrate is 5%\n"
     ]
    }
   ],
   "source": [
    "income=int(input(\"enter your income\"))\n",
    "if((income>=2) and (income<=50)):\n",
    "    print( \"taxrate is 5%\")\n",
    "else:\n",
    "    print(\"tax rateis 10%\")"
   ]
  },
  {
   "cell_type": "code",
   "execution_count": 3,
   "id": "43c11651-6778-4817-bc52-21e363ede483",
   "metadata": {},
   "outputs": [
    {
     "name": "stdin",
     "output_type": "stream",
     "text": [
      "base price 100\n",
      "enter the slab value 1\n",
      "enter road development cess 2\n",
      "enter the road tax 3\n",
      "enter economic cess 4\n",
      "enter vat 5\n"
     ]
    },
    {
     "name": "stdout",
     "output_type": "stream",
     "text": [
      "115.0\n"
     ]
    }
   ],
   "source": [
    "x=int(input(\"base price\"))\n",
    "gst=int(input(\"enter the slab value\"))\n",
    "y=int(input(\"enter road development cess\"))\n",
    "z=int(input(\"enter the road tax\"))\n",
    "f=int(input(\"enter economic cess\"))\n",
    "b=int(input(\"enter vat\"))\n",
    "price=x+(gst+y+z+f+b)*x/100\n",
    "print(price)"
   ]
  },
  {
   "cell_type": "code",
   "execution_count": 5,
   "id": "6c10dcef-63fd-4413-811a-55c55e610abf",
   "metadata": {},
   "outputs": [
    {
     "name": "stdin",
     "output_type": "stream",
     "text": [
      "base price 100\n",
      "enter the slab value 1\n",
      "enter road development cess 2\n",
      "enter the road tax 3\n",
      "enter economic cess 4\n",
      "enter vat 5\n"
     ]
    },
    {
     "name": "stdout",
     "output_type": "stream",
     "text": [
      "115.0\n"
     ]
    }
   ],
   "source": [
    "x=int(input(\"base price\"))\n",
    "gst=int(input(\"enter the slab value\"))\n",
    "if gst== 1:\n",
    "    rate=0\n",
    "if gst==2:\n",
    "    rate=5\n",
    "if gst==3:\n",
    "    rate=12\n",
    "if gst==4:\n",
    "    rate=18\n",
    "if gst==5:\n",
    "    rate=28\n",
    "y=int(input(\"enter road development cess\"))\n",
    "z=int(input(\"enter the road tax\"))\n",
    "f=int(input(\"enter economic cess\"))\n",
    "b=int(input(\"enter vat\"))\n",
    "price=x+(gst+y+z+f+b)*x/100\n",
    "print(price)"
   ]
  },
  {
   "cell_type": "code",
   "execution_count": 8,
   "id": "e44f0496-9fdb-433f-9e11-4382dba466b8",
   "metadata": {},
   "outputs": [
    {
     "name": "stdin",
     "output_type": "stream",
     "text": [
      "salary 800000\n"
     ]
    },
    {
     "name": "stdout",
     "output_type": "stream",
     "text": [
      "tax 45000.0\n"
     ]
    }
   ],
   "source": [
    "x=int(input(\"salary\"))\n",
    "if x<=250000:\n",
    "    y=0\n",
    "if x<=50000 and x>250000:\n",
    "    y=(x-250000)*(5/100)\n",
    "if x<=750000 and x> 50000:\n",
    "    y=12500+((x-500000)*(10/100))\n",
    "if x<1000000 and x> 750000:\n",
    "    y=37500+((x-750000)*(15/100))\n",
    "if x<=1250000 and x> 1000000 :\n",
    "    y=75000+((x-100000)*(20/100))\n",
    "if x<=1500000 and x>1250000:\n",
    "    y=125000+((x-125000)*(25/100))\n",
    "if x>1500000 and x> 1500000:\n",
    "    y=187500+((x-1500000)*(30/100))\n",
    "print(\"tax\",y)"
   ]
  },
  {
   "cell_type": "code",
   "execution_count": 11,
   "id": "38a81445-4d35-4dd9-91fa-18b4d4e5625d",
   "metadata": {},
   "outputs": [
    {
     "name": "stdin",
     "output_type": "stream",
     "text": [
      "Enter Salary amount 1234567\n"
     ]
    },
    {
     "name": "stdout",
     "output_type": "stream",
     "text": [
      "Tax 121913.4\n"
     ]
    }
   ],
   "source": [
    "def sal(a,b,c):\n",
    "    t=a+((x-b)*c)\n",
    "    print(\"Tax\",t)\n",
    "x=int(input(\"Enter Salary amount\"))\n",
    "if x<=250000:\n",
    "    sal(0,0,0)\n",
    "if x<=500000 and x>250000:\n",
    "    sal(0,250000,5/100)\n",
    "if x<=750000 and x>500000:\n",
    "    sal(12500,500000,10/100)\n",
    "if x<=1000000 and x>750000:\n",
    "    sal(37500,750000,15/100)\n",
    "if x<=1250000 and x>1000000:\n",
    "    sal(75000,1000000,20/100)\n",
    "if x<=1500000 and x>1250000:\n",
    "    sal(125000,1250000,25/100)\n",
    "if x>1500000 and x>1500000:\n",
    "    sal(187500,1500000,30/100)"
   ]
  },
  {
   "cell_type": "code",
   "execution_count": null,
   "id": "a45e7df3-43fd-43b0-8f99-3736f94ff809",
   "metadata": {},
   "outputs": [],
   "source": []
  }
 ],
 "metadata": {
  "kernelspec": {
   "display_name": "Python 3",
   "language": "python",
   "name": "python3"
  },
  "language_info": {
   "codemirror_mode": {
    "name": "ipython",
    "version": 3
   },
   "file_extension": ".py",
   "mimetype": "text/x-python",
   "name": "python",
   "nbconvert_exporter": "python",
   "pygments_lexer": "ipython3",
   "version": "3.8.8"
  }
 },
 "nbformat": 4,
 "nbformat_minor": 5
}
