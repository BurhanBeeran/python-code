{
 "cells": [
  {
   "cell_type": "code",
   "execution_count": 1,
   "id": "4da85349-95fe-4d28-8b3a-ad475984a8bc",
   "metadata": {},
   "outputs": [
    {
     "name": "stdin",
     "output_type": "stream",
     "text": [
      " burhan\n"
     ]
    }
   ],
   "source": [
    "x=input()"
   ]
  },
  {
   "cell_type": "code",
   "execution_count": 2,
   "id": "61b33728-83c3-4e3f-b193-800209897e12",
   "metadata": {},
   "outputs": [
    {
     "name": "stdout",
     "output_type": "stream",
     "text": [
      "burhan\n"
     ]
    }
   ],
   "source": [
    "print(x)"
   ]
  },
  {
   "cell_type": "code",
   "execution_count": 3,
   "id": "23f370fd-3088-423d-924e-74e7a3f4658d",
   "metadata": {},
   "outputs": [
    {
     "name": "stdin",
     "output_type": "stream",
     "text": [
      "enter your name burhan\n"
     ]
    }
   ],
   "source": [
    "x=input(\"enter your name\")"
   ]
  },
  {
   "cell_type": "code",
   "execution_count": 4,
   "id": "7bcac935-6940-4491-8bab-535cd4d349d9",
   "metadata": {},
   "outputs": [
    {
     "name": "stdout",
     "output_type": "stream",
     "text": [
      "burhan\n"
     ]
    }
   ],
   "source": [
    "print(x)"
   ]
  },
  {
   "cell_type": "code",
   "execution_count": 5,
   "id": "0cc1b396-b426-4d8e-9edb-b446bbc00908",
   "metadata": {},
   "outputs": [
    {
     "name": "stdin",
     "output_type": "stream",
     "text": [
      "year of birth 2002\n"
     ]
    }
   ],
   "source": [
    "y=input(\"year of birth\")"
   ]
  },
  {
   "cell_type": "code",
   "execution_count": 6,
   "id": "e9519c8b-ccc6-455c-b5a9-cc78d7316e30",
   "metadata": {},
   "outputs": [
    {
     "name": "stdin",
     "output_type": "stream",
     "text": [
      "mobile number 123456789\n"
     ]
    }
   ],
   "source": [
    "z=input(\"mobile number\")"
   ]
  },
  {
   "cell_type": "code",
   "execution_count": 7,
   "id": "1dda09a8-ba19-44b7-b8d3-430107054f1c",
   "metadata": {},
   "outputs": [
    {
     "name": "stdin",
     "output_type": "stream",
     "text": [
      "address abcd\n"
     ]
    }
   ],
   "source": [
    "o=input(\"address\")"
   ]
  },
  {
   "cell_type": "code",
   "execution_count": 8,
   "id": "ecd2ad37-c5c5-4f2c-9b21-a1821494b028",
   "metadata": {},
   "outputs": [
    {
     "name": "stdout",
     "output_type": "stream",
     "text": [
      "burhan 2002 123456789 abcd\n"
     ]
    }
   ],
   "source": [
    "print(x,y,z,o)"
   ]
  },
  {
   "cell_type": "code",
   "execution_count": 9,
   "id": "0798275b-f7e3-495a-a531-2158db34aaf7",
   "metadata": {},
   "outputs": [
    {
     "name": "stdin",
     "output_type": "stream",
     "text": [
      "enter first number 20\n",
      "enter second number 30\n"
     ]
    }
   ],
   "source": [
    "x=input(\"enter first number\")\n",
    "y=input(\"enter second number\")\n"
   ]
  },
  {
   "cell_type": "code",
   "execution_count": 16,
   "id": "672508e2-8d51-4d5b-b58f-974c8da34f7b",
   "metadata": {},
   "outputs": [
    {
     "name": "stdout",
     "output_type": "stream",
     "text": [
      "sum of two numbers 50\n"
     ]
    }
   ],
   "source": [
    "sum=int(x)+int(y)\n",
    "print(\"sum of two numbers\",sum)"
   ]
  },
  {
   "cell_type": "code",
   "execution_count": 17,
   "id": "c687fed6-8c4d-46f1-bc00-7e8ebdc31857",
   "metadata": {},
   "outputs": [
    {
     "data": {
      "text/plain": [
       "str"
      ]
     },
     "execution_count": 17,
     "metadata": {},
     "output_type": "execute_result"
    }
   ],
   "source": [
    "type(x)\n",
    "type(y)"
   ]
  },
  {
   "cell_type": "code",
   "execution_count": 18,
   "id": "b05d0c96-fe45-494a-952f-42472f8ca76f",
   "metadata": {},
   "outputs": [],
   "source": [
    "x=(\"india is my country\")"
   ]
  },
  {
   "cell_type": "code",
   "execution_count": 19,
   "id": "da9dee9c-fbc7-4a48-ab64-a077a6afe5b4",
   "metadata": {},
   "outputs": [
    {
     "data": {
      "text/plain": [
       "'i'"
      ]
     },
     "execution_count": 19,
     "metadata": {},
     "output_type": "execute_result"
    }
   ],
   "source": [
    "x[0]\n"
   ]
  },
  {
   "cell_type": "code",
   "execution_count": 20,
   "id": "23287bfc-32ba-4ccd-b915-834d1e3d97aa",
   "metadata": {},
   "outputs": [
    {
     "data": {
      "text/plain": [
       "'n'"
      ]
     },
     "execution_count": 20,
     "metadata": {},
     "output_type": "execute_result"
    }
   ],
   "source": [
    "x[1]"
   ]
  },
  {
   "cell_type": "code",
   "execution_count": 21,
   "id": "2ee34865-cb7c-4d05-aa5c-c7e563163290",
   "metadata": {},
   "outputs": [
    {
     "data": {
      "text/plain": [
       "'d'"
      ]
     },
     "execution_count": 21,
     "metadata": {},
     "output_type": "execute_result"
    }
   ],
   "source": [
    "x[2]"
   ]
  },
  {
   "cell_type": "code",
   "execution_count": 22,
   "id": "d5ce5a22-e2e7-4fd2-a43f-7ba42b5b7785",
   "metadata": {},
   "outputs": [
    {
     "data": {
      "text/plain": [
       "'i'"
      ]
     },
     "execution_count": 22,
     "metadata": {},
     "output_type": "execute_result"
    }
   ],
   "source": [
    "x[3]"
   ]
  },
  {
   "cell_type": "code",
   "execution_count": 23,
   "id": "5e99b262-6219-4546-a818-e61d182b4416",
   "metadata": {},
   "outputs": [
    {
     "data": {
      "text/plain": [
       "'a'"
      ]
     },
     "execution_count": 23,
     "metadata": {},
     "output_type": "execute_result"
    }
   ],
   "source": [
    "x[4]"
   ]
  },
  {
   "cell_type": "code",
   "execution_count": 24,
   "id": "7a4a1fd6-bfde-46bc-97b2-041f86705046",
   "metadata": {},
   "outputs": [
    {
     "data": {
      "text/plain": [
       "'c'"
      ]
     },
     "execution_count": 24,
     "metadata": {},
     "output_type": "execute_result"
    }
   ],
   "source": [
    "x[12]"
   ]
  },
  {
   "cell_type": "code",
   "execution_count": 25,
   "id": "60b8df33-73cd-4c35-b8b0-d65e51ff593c",
   "metadata": {},
   "outputs": [
    {
     "data": {
      "text/plain": [
       "'o'"
      ]
     },
     "execution_count": 25,
     "metadata": {},
     "output_type": "execute_result"
    }
   ],
   "source": [
    "x[13]"
   ]
  },
  {
   "cell_type": "code",
   "execution_count": 26,
   "id": "7c085579-59a9-4535-a0a7-f6edcc0e49db",
   "metadata": {},
   "outputs": [
    {
     "data": {
      "text/plain": [
       "'y'"
      ]
     },
     "execution_count": 26,
     "metadata": {},
     "output_type": "execute_result"
    }
   ],
   "source": [
    "x[-1]"
   ]
  },
  {
   "cell_type": "code",
   "execution_count": 27,
   "id": "6b11362f-2aa4-4188-af94-d5d106fb6e43",
   "metadata": {},
   "outputs": [
    {
     "data": {
      "text/plain": [
       "'r'"
      ]
     },
     "execution_count": 27,
     "metadata": {},
     "output_type": "execute_result"
    }
   ],
   "source": [
    "x[-2]"
   ]
  },
  {
   "cell_type": "code",
   "execution_count": 28,
   "id": "c4baf4bf-7149-4442-be20-eadd5b3e180c",
   "metadata": {},
   "outputs": [
    {
     "data": {
      "text/plain": [
       "'ndia'"
      ]
     },
     "execution_count": 28,
     "metadata": {},
     "output_type": "execute_result"
    }
   ],
   "source": [
    "x[1:5]"
   ]
  },
  {
   "cell_type": "code",
   "execution_count": 29,
   "id": "26b11f76-05e2-448e-83dc-336e265b00ec",
   "metadata": {},
   "outputs": [
    {
     "data": {
      "text/plain": [
       "'i'"
      ]
     },
     "execution_count": 29,
     "metadata": {},
     "output_type": "execute_result"
    }
   ],
   "source": [
    "x[0]"
   ]
  },
  {
   "cell_type": "code",
   "execution_count": 30,
   "id": "6c47446b-d301-49f7-96f5-970b59730f8d",
   "metadata": {},
   "outputs": [
    {
     "data": {
      "text/plain": [
       "'a'"
      ]
     },
     "execution_count": 30,
     "metadata": {},
     "output_type": "execute_result"
    }
   ],
   "source": [
    "x[4]"
   ]
  },
  {
   "cell_type": "code",
   "execution_count": 31,
   "id": "60c3b1e7-90be-4ebf-8080-8d75a451246a",
   "metadata": {},
   "outputs": [
    {
     "data": {
      "text/plain": [
       "' '"
      ]
     },
     "execution_count": 31,
     "metadata": {},
     "output_type": "execute_result"
    }
   ],
   "source": [
    "x[5]"
   ]
  },
  {
   "cell_type": "code",
   "execution_count": 32,
   "id": "e761f18d-efeb-4dd5-881a-e9a0f67c4ca1",
   "metadata": {},
   "outputs": [
    {
     "data": {
      "text/plain": [
       "'india'"
      ]
     },
     "execution_count": 32,
     "metadata": {},
     "output_type": "execute_result"
    }
   ],
   "source": [
    "x[0:5]"
   ]
  },
  {
   "cell_type": "code",
   "execution_count": 34,
   "id": "5dbd7217-2713-4c65-ac1f-3371d9485e7f",
   "metadata": {},
   "outputs": [
    {
     "name": "stdin",
     "output_type": "stream",
     "text": [
      "enter principle 5000\n",
      "enter nubmer of years 3\n",
      "rate of interest 5\n"
     ]
    }
   ],
   "source": [
    "x=input(\"enter principle\")\n",
    "y=input(\"enter nubmer of years\")\n",
    "z=input(\"rate of interest\")"
   ]
  },
  {
   "cell_type": "code",
   "execution_count": 41,
   "id": "13233154-5cb9-465b-b215-702889f40b2c",
   "metadata": {},
   "outputs": [
    {
     "name": "stdout",
     "output_type": "stream",
     "text": [
      "75000\n"
     ]
    }
   ],
   "source": [
    "p=int(x)*int(y)*int(z)\n",
    "print(p)"
   ]
  },
  {
   "cell_type": "code",
   "execution_count": 43,
   "id": "88aaffa4-f011-43f2-9b7e-1510d1fd7900",
   "metadata": {},
   "outputs": [],
   "source": [
    "o=int(x)+p/100"
   ]
  },
  {
   "cell_type": "code",
   "execution_count": 45,
   "id": "3b9f7903-911b-4e2c-829e-3699c60b3c80",
   "metadata": {},
   "outputs": [
    {
     "name": "stdout",
     "output_type": "stream",
     "text": [
      "compound interest 5750.0\n"
     ]
    }
   ],
   "source": [
    "print(\"compound interest\",o)"
   ]
  },
  {
   "cell_type": "code",
   "execution_count": 10,
   "id": "a63c9a83-b09a-4073-a28e-a42113afb0bc",
   "metadata": {},
   "outputs": [
    {
     "name": "stdin",
     "output_type": "stream",
     "text": [
      "enter principle 50000\n",
      "enter number of years 3\n"
     ]
    },
    {
     "name": "stdout",
     "output_type": "stream",
     "text": [
      "1200000\n",
      "interest 62000.0\n"
     ]
    }
   ],
   "source": [
    "p=input(\"enter principle\")\n",
    "n=int(input(\"enter number of years\"))\n",
    "if n >=50000 :\n",
    "    r=10\n",
    "if n <=50000:\n",
    "    if n>=6:\n",
    "        r=10\n",
    "    if n<= 6:\n",
    "        r=8\n",
    "a=int(p)*int(n)*int(r)\n",
    "print(a)\n",
    "i=int(p)+a/100\n",
    "print(\"interest\",i)"
   ]
  },
  {
   "cell_type": "code",
   "execution_count": 11,
   "id": "5588a3e9-7778-4d0f-a5ef-ef342f7b50f5",
   "metadata": {},
   "outputs": [
    {
     "name": "stdin",
     "output_type": "stream",
     "text": [
      "enter a number 5\n",
      "enter a number 4\n",
      "1200000 \n"
     ]
    }
   ],
   "source": [
    "x=input(\"enter a number\")\n",
    "y=input(\"enter a number\")\n",
    "z=input (a)\n",
    "if z==1:\n",
    "    print(x+y)\n",
    "if z==2:\n",
    "    print(x-y)\n",
    "if z==3:\n",
    "    print(x*y)\n",
    "if z==4:\n",
    "    print(x/y)"
   ]
  },
  {
   "cell_type": "code",
   "execution_count": null,
   "id": "2ba13254-cd30-493e-91d8-4b2c9954222e",
   "metadata": {},
   "outputs": [],
   "source": []
  }
 ],
 "metadata": {
  "kernelspec": {
   "display_name": "Python 3",
   "language": "python",
   "name": "python3"
  },
  "language_info": {
   "codemirror_mode": {
    "name": "ipython",
    "version": 3
   },
   "file_extension": ".py",
   "mimetype": "text/x-python",
   "name": "python",
   "nbconvert_exporter": "python",
   "pygments_lexer": "ipython3",
   "version": "3.8.8"
  }
 },
 "nbformat": 4,
 "nbformat_minor": 5
}
