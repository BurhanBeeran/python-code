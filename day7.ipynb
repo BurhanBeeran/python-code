{
 "cells": [
  {
   "cell_type": "code",
   "execution_count": 37,
   "id": "62b906a8-ec95-4c73-8b04-212f505598d5",
   "metadata": {},
   "outputs": [],
   "source": [
    "x=[\"richard\",19,\"thiruvalla\",\"kfc\"]"
   ]
  },
  {
   "cell_type": "code",
   "execution_count": 38,
   "id": "6dab4fa0-c683-407c-9b12-f658aa76ed8b",
   "metadata": {},
   "outputs": [
    {
     "data": {
      "text/plain": [
       "19"
      ]
     },
     "execution_count": 38,
     "metadata": {},
     "output_type": "execute_result"
    }
   ],
   "source": [
    "x[1]"
   ]
  },
  {
   "cell_type": "code",
   "execution_count": 39,
   "id": "97e4187d-ab4c-47f2-9026-c648b80153f9",
   "metadata": {},
   "outputs": [
    {
     "data": {
      "text/plain": [
       "'thiruvalla'"
      ]
     },
     "execution_count": 39,
     "metadata": {},
     "output_type": "execute_result"
    }
   ],
   "source": [
    "x[2]"
   ]
  },
  {
   "cell_type": "code",
   "execution_count": 40,
   "id": "4db94d2e-3450-48d9-93bd-8557277616d3",
   "metadata": {},
   "outputs": [
    {
     "data": {
      "text/plain": [
       "'kfc'"
      ]
     },
     "execution_count": 40,
     "metadata": {},
     "output_type": "execute_result"
    }
   ],
   "source": [
    "x[3]"
   ]
  },
  {
   "cell_type": "code",
   "execution_count": 41,
   "id": "3594abe4-7e75-4a93-8068-80d1e2a6166a",
   "metadata": {},
   "outputs": [
    {
     "data": {
      "text/plain": [
       "'richard'"
      ]
     },
     "execution_count": 41,
     "metadata": {},
     "output_type": "execute_result"
    }
   ],
   "source": [
    "x[0]"
   ]
  },
  {
   "cell_type": "code",
   "execution_count": 42,
   "id": "58e5388d-627b-4b09-830e-4da49c681bc4",
   "metadata": {},
   "outputs": [],
   "source": [
    "x[3]=\"mcd\""
   ]
  },
  {
   "cell_type": "code",
   "execution_count": 43,
   "id": "23822051-cf40-44d9-898b-547d75acfacb",
   "metadata": {},
   "outputs": [
    {
     "data": {
      "text/plain": [
       "'mcd'"
      ]
     },
     "execution_count": 43,
     "metadata": {},
     "output_type": "execute_result"
    }
   ],
   "source": [
    "x[3]"
   ]
  },
  {
   "cell_type": "code",
   "execution_count": 3,
   "id": "622c277e-a579-43fb-b40b-f358c311b073",
   "metadata": {},
   "outputs": [
    {
     "name": "stdout",
     "output_type": "stream",
     "text": [
      "value of x= 0\n",
      "value of x= 1\n",
      "value of x= 2\n",
      "value of x= 3\n",
      "value of x= 4\n",
      "value of x= 5\n",
      "value of x= 6\n",
      "value of x= 7\n",
      "value of x= 8\n",
      "value of x= 9\n"
     ]
    }
   ],
   "source": [
    "x=0\n",
    "while x<10:\n",
    "    print(\"value of x=\",x)\n",
    "    x=x+1"
   ]
  },
  {
   "cell_type": "code",
   "execution_count": 2,
   "id": "9221b3b7-2c70-433f-84a1-9a30a9156845",
   "metadata": {},
   "outputs": [
    {
     "name": "stdout",
     "output_type": "stream",
     "text": [
      "5050\n"
     ]
    }
   ],
   "source": [
    "x=0\n",
    "total=0\n",
    "while x<101:\n",
    "    total=total+x\n",
    "    x=x+1\n",
    "print(total)"
   ]
  },
  {
   "cell_type": "code",
   "execution_count": 1,
   "id": "68e81050-bcff-4fc3-b90e-6000ebfb2a3e",
   "metadata": {},
   "outputs": [
    {
     "name": "stdin",
     "output_type": "stream",
     "text": [
      "enter the number= 3\n"
     ]
    },
    {
     "name": "stdout",
     "output_type": "stream",
     "text": [
      "6\n"
     ]
    }
   ],
   "source": [
    "z=int(input(\"enter the number=\"))\n",
    "x=1\n",
    "factoral=1\n",
    "while x<=z:\n",
    "    factoral=factoral*x\n",
    "    x=x+1\n",
    "print(factoral)"
   ]
  },
  {
   "cell_type": "code",
   "execution_count": 9,
   "id": "0206e891-09ee-483f-8d67-349d18f35035",
   "metadata": {},
   "outputs": [
    {
     "name": "stdin",
     "output_type": "stream",
     "text": [
      "enter the number= 3\n"
     ]
    },
    {
     "name": "stdout",
     "output_type": "stream",
     "text": [
      "2\n"
     ]
    }
   ],
   "source": [
    "z=int(input(\"enter the number=\"))\n",
    "x=0\n",
    "total=0\n",
    "while x<=z:\n",
    "    total=total+x\n",
    "    x=x+2\n",
    "print(total)"
   ]
  },
  {
   "cell_type": "code",
   "execution_count": 11,
   "id": "84839428-5cb6-4cf3-a2df-72d09cfe9263",
   "metadata": {},
   "outputs": [
    {
     "name": "stdout",
     "output_type": "stream",
     "text": [
      "1050\n"
     ]
    }
   ],
   "source": [
    "x=0\n",
    "total=0\n",
    "while x<=101:\n",
    "    total=total+x\n",
    "    x=x+5\n",
    "print(total)"
   ]
  },
  {
   "cell_type": "code",
   "execution_count": 12,
   "id": "9bc8149e-534b-4597-88a4-ec6293cfc631",
   "metadata": {},
   "outputs": [
    {
     "data": {
      "text/plain": [
       "0"
      ]
     },
     "execution_count": 12,
     "metadata": {},
     "output_type": "execute_result"
    }
   ],
   "source": [
    "10%5"
   ]
  },
  {
   "cell_type": "code",
   "execution_count": 13,
   "id": "08e3bfb1-0bad-4fce-8793-2c69175a2122",
   "metadata": {},
   "outputs": [
    {
     "data": {
      "text/plain": [
       "1"
      ]
     },
     "execution_count": 13,
     "metadata": {},
     "output_type": "execute_result"
    }
   ],
   "source": [
    "11%5"
   ]
  },
  {
   "cell_type": "code",
   "execution_count": 16,
   "id": "640f1a2e-a1a8-4425-b397-9fce00cf5b58",
   "metadata": {},
   "outputs": [
    {
     "data": {
      "text/plain": [
       "2"
      ]
     },
     "execution_count": 16,
     "metadata": {},
     "output_type": "execute_result"
    }
   ],
   "source": [
    "12%5"
   ]
  },
  {
   "cell_type": "code",
   "execution_count": null,
   "id": "b0522c3e-d397-46cb-be89-e533a42db7c7",
   "metadata": {},
   "outputs": [],
   "source": [
    "\n",
    "z=int(input(\"enter the number=\"))\n",
    "x=1\n",
    "factoral=1\n",
    "while x<=z:\n",
    "    factoral=factoral*x\n",
    "    x=x+1\n",
    "print(factoral)"
   ]
  },
  {
   "cell_type": "code",
   "execution_count": null,
   "id": "5e4c851e-30d5-443c-9447-4054a4da953b",
   "metadata": {},
   "outputs": [],
   "source": []
  },
  {
   "cell_type": "code",
   "execution_count": 1,
   "id": "4ac72643-7602-4a64-8238-e0d8d3d6ab9c",
   "metadata": {},
   "outputs": [
    {
     "name": "stdout",
     "output_type": "stream",
     "text": [
      "1050\n"
     ]
    }
   ],
   "source": [
    "x=0\n",
    "total=0\n",
    "while x<=100:\n",
    "    if x%5==0:\n",
    "        total=total+x\n",
    "    x=x+1\n",
    "print(total)"
   ]
  },
  {
   "cell_type": "code",
   "execution_count": null,
   "id": "8e15870f-5e47-4976-8d72-f821e4ae62ae",
   "metadata": {},
   "outputs": [],
   "source": []
  }
 ],
 "metadata": {
  "kernelspec": {
   "display_name": "Python 3",
   "language": "python",
   "name": "python3"
  },
  "language_info": {
   "codemirror_mode": {
    "name": "ipython",
    "version": 3
   },
   "file_extension": ".py",
   "mimetype": "text/x-python",
   "name": "python",
   "nbconvert_exporter": "python",
   "pygments_lexer": "ipython3",
   "version": "3.8.8"
  }
 },
 "nbformat": 4,
 "nbformat_minor": 5
}
