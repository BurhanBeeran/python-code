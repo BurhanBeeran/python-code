{
 "cells": [
  {
   "cell_type": "code",
   "execution_count": 1,
   "id": "0baee3d1-2083-4f49-8138-f31198a3b717",
   "metadata": {},
   "outputs": [],
   "source": [
    "x=[1,2,3,4,5,6]"
   ]
  },
  {
   "cell_type": "code",
   "execution_count": 2,
   "id": "2f0853f9-234e-4cb2-a7f0-95d537076409",
   "metadata": {},
   "outputs": [
    {
     "name": "stdout",
     "output_type": "stream",
     "text": [
      "1\n",
      "2\n",
      "3\n",
      "4\n",
      "5\n",
      "6\n"
     ]
    }
   ],
   "source": [
    "for f in x:\n",
    "    print(f)"
   ]
  },
  {
   "cell_type": "code",
   "execution_count": 5,
   "id": "f5c62246-13c5-44b9-b4ff-74d6aa6fbf73",
   "metadata": {},
   "outputs": [
    {
     "name": "stdout",
     "output_type": "stream",
     "text": [
      "richard\n",
      "shane\n",
      "colin\n",
      "george\n",
      "aaron\n"
     ]
    }
   ],
   "source": [
    "x=[\"richard\",\"shane\",\"colin\",\"george\",\"aaron\"]\n",
    "for d in x:\n",
    "    print(d)"
   ]
  },
  {
   "cell_type": "code",
   "execution_count": 22,
   "id": "71e0ea69-7d49-4f3c-839f-79523adcf78c",
   "metadata": {},
   "outputs": [
    {
     "name": "stdout",
     "output_type": "stream",
     "text": [
      "55\n"
     ]
    }
   ],
   "source": [
    "total=0\n",
    "x=[1,2,3,4,5,6,7,8,9,10]\n",
    "for d in x:\n",
    "    total=total+d\n",
    "print(total)"
   ]
  },
  {
   "cell_type": "code",
   "execution_count": 24,
   "id": "ae5fed11-f09e-42a0-9d8b-0b73967466de",
   "metadata": {},
   "outputs": [
    {
     "name": "stdout",
     "output_type": "stream",
     "text": [
      "3628800\n"
     ]
    }
   ],
   "source": [
    "total=1\n",
    "x=[1,2,3,4,5,6,7,8,9,10]\n",
    "for d in x:\n",
    "    total=total*d\n",
    "print(total)"
   ]
  },
  {
   "cell_type": "code",
   "execution_count": 27,
   "id": "1f278bae-abed-4650-8a4c-cabbc17de95f",
   "metadata": {},
   "outputs": [],
   "source": [
    "x=[1,2,3,4,5,6,7,8,9,10]\n",
    "x. sort()"
   ]
  },
  {
   "cell_type": "code",
   "execution_count": 28,
   "id": "6b85413f-d056-418c-847b-0de5a3bb5b98",
   "metadata": {},
   "outputs": [
    {
     "data": {
      "text/plain": [
       "10"
      ]
     },
     "execution_count": 28,
     "metadata": {},
     "output_type": "execute_result"
    }
   ],
   "source": [
    "len(x)"
   ]
  },
  {
   "cell_type": "code",
   "execution_count": 29,
   "id": "3b052d84-950e-478c-bc7a-be1052a9e816",
   "metadata": {},
   "outputs": [
    {
     "data": {
      "text/plain": [
       "10"
      ]
     },
     "execution_count": 29,
     "metadata": {},
     "output_type": "execute_result"
    }
   ],
   "source": [
    "max(x)"
   ]
  },
  {
   "cell_type": "code",
   "execution_count": 30,
   "id": "02641192-3e00-42e4-8caf-da7213ed6f92",
   "metadata": {},
   "outputs": [
    {
     "data": {
      "text/plain": [
       "1"
      ]
     },
     "execution_count": 30,
     "metadata": {},
     "output_type": "execute_result"
    }
   ],
   "source": [
    "min(x)"
   ]
  },
  {
   "cell_type": "code",
   "execution_count": 31,
   "id": "2d9c3139-725f-4888-8bff-8005d5e66793",
   "metadata": {},
   "outputs": [
    {
     "data": {
      "text/plain": [
       "2"
      ]
     },
     "execution_count": 31,
     "metadata": {},
     "output_type": "execute_result"
    }
   ],
   "source": [
    "x=[1,1,2,3,4,5,6,7,8,9,10]\n",
    "x.count(1)"
   ]
  },
  {
   "cell_type": "code",
   "execution_count": 36,
   "id": "577826c0-595b-494e-bde7-13c8cb1bc57c",
   "metadata": {},
   "outputs": [
    {
     "name": "stdout",
     "output_type": "stream",
     "text": [
      "[1, 2, 3, 4, 5, 6, 7, 8, 9, 10, 11]\n"
     ]
    }
   ],
   "source": [
    "x=[1,2,3,4,5,6,7,8,9,10]\n",
    "y=x.append(11)\n",
    "print(x)"
   ]
  },
  {
   "cell_type": "code",
   "execution_count": 14,
   "id": "f51b096c-eeec-452e-8677-7a5a98847663",
   "metadata": {},
   "outputs": [
    {
     "name": "stdin",
     "output_type": "stream",
     "text": [
      "enter your name burhan\n",
      "enter your dept 1\n",
      "enter your name richard\n",
      "enter your dept 1\n",
      "enter your name colin\n",
      "enter your dept 2\n",
      "enter your name shane\n",
      "enter your dept 3\n",
      "enter your name shravan\n",
      "enter your dept 3\n",
      "enter your name aaron\n",
      "enter your dept 1\n",
      "enter your name amin\n",
      "enter your dept 1\n",
      "enter your name jaseel\n",
      "enter your dept 2\n",
      "enter your name han\n",
      "enter your dept 1\n",
      "enter your name tommy\n",
      "enter your dept 3\n",
      "enter your name jb\n",
      "enter your dept 2\n"
     ]
    },
    {
     "name": "stdout",
     "output_type": "stream",
     "text": [
      "['richard', 'aaron', 'amin', 'han']\n"
     ]
    }
   ],
   "source": [
    "bba=[]\n",
    "bcom=[]\n",
    "psy=[]\n",
    "x=input(\"enter your name\")\n",
    "y=int(input(\"enter your dept\"))\n",
    "for d in range (10):\n",
    "    x=input(\"enter your name\")\n",
    "    y=int(input(\"enter your dept\"))\n",
    "    if y==1:\n",
    "        bba. append(x)\n",
    "    if y==2:\n",
    "        bcom.append(x)\n",
    "    if y==3:\n",
    "        psy.append(x)\n",
    "print(bba)"
   ]
  },
  {
   "cell_type": "code",
   "execution_count": 15,
   "id": "57c53bb2-87be-4750-8a9b-05402a3f3112",
   "metadata": {},
   "outputs": [
    {
     "data": {
      "text/plain": [
       "['richard', 'aaron', 'amin', 'han']"
      ]
     },
     "execution_count": 15,
     "metadata": {},
     "output_type": "execute_result"
    }
   ],
   "source": [
    "bba"
   ]
  },
  {
   "cell_type": "code",
   "execution_count": 16,
   "id": "93d0d20a-45b9-4f2d-9475-b7b288d691d6",
   "metadata": {},
   "outputs": [
    {
     "data": {
      "text/plain": [
       "['colin', 'jaseel', 'jb']"
      ]
     },
     "execution_count": 16,
     "metadata": {},
     "output_type": "execute_result"
    }
   ],
   "source": [
    "bcom"
   ]
  },
  {
   "cell_type": "code",
   "execution_count": 17,
   "id": "ea06dc4e-03d2-46ed-ae1d-2335a33d46df",
   "metadata": {},
   "outputs": [
    {
     "data": {
      "text/plain": [
       "['shane', 'shravan', 'tommy']"
      ]
     },
     "execution_count": 17,
     "metadata": {},
     "output_type": "execute_result"
    }
   ],
   "source": [
    "psy"
   ]
  },
  {
   "cell_type": "code",
   "execution_count": 21,
   "id": "6e747578-a8dc-4643-8c9c-84a0314b29b9",
   "metadata": {},
   "outputs": [],
   "source": [
    "x=[1,2,3,4,5,6,7,8,9,10]\n",
    "x.insert (2,12)"
   ]
  },
  {
   "cell_type": "code",
   "execution_count": 22,
   "id": "59af80ec-582e-4082-bf79-5599d59d8b90",
   "metadata": {},
   "outputs": [
    {
     "name": "stdout",
     "output_type": "stream",
     "text": [
      "[1, 2, 12, 3, 4, 5, 6, 7, 8, 9, 10]\n"
     ]
    }
   ],
   "source": [
    "print(x)"
   ]
  },
  {
   "cell_type": "code",
   "execution_count": null,
   "id": "70909ac0-b2c4-46ff-a740-37b23e7e3fc4",
   "metadata": {},
   "outputs": [],
   "source": []
  }
 ],
 "metadata": {
  "kernelspec": {
   "display_name": "Python 3",
   "language": "python",
   "name": "python3"
  },
  "language_info": {
   "codemirror_mode": {
    "name": "ipython",
    "version": 3
   },
   "file_extension": ".py",
   "mimetype": "text/x-python",
   "name": "python",
   "nbconvert_exporter": "python",
   "pygments_lexer": "ipython3",
   "version": "3.8.8"
  }
 },
 "nbformat": 4,
 "nbformat_minor": 5
}
